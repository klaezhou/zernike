{
 "cells": [
  {
   "cell_type": "code",
   "execution_count": 28,
   "metadata": {},
   "outputs": [
    {
     "data": {
      "text/plain": [
       "<module 'Zer' from 'd:\\\\SUSTUDY\\\\MOPTIM\\\\2\\\\Codes\\\\motion_compensation\\\\class\\\\Zer.py'>"
      ]
     },
     "execution_count": 28,
     "metadata": {},
     "output_type": "execute_result"
    }
   ],
   "source": [
    "import importlib\n",
    "import Zer \n",
    "import numpy as np\n",
    "import matplotlib.pyplot as plt\n",
    "importlib.reload(Zer)"
   ]
  },
  {
   "cell_type": "code",
   "execution_count": 33,
   "metadata": {},
   "outputs": [],
   "source": [
    "rho=np.linspace(0,1,100)\n",
    "theta=np.linspace(0,2*np.pi,100)\n",
    "zer= Zer.Zer(10,100,rho,theta)"
   ]
  },
  {
   "cell_type": "code",
   "execution_count": 34,
   "metadata": {},
   "outputs": [
    {
     "data": {
      "text/plain": [
       "array([[ 1.00000000e+00,  0.00000000e+00,  0.00000000e+00, ...,\n",
       "         0.00000000e+00,  0.00000000e+00,  0.00000000e+00],\n",
       "       [ 1.00000000e+00,  6.40645653e-04,  1.00806735e-02, ...,\n",
       "         2.76027940e-11, -8.52213277e-16,  8.90409352e-21],\n",
       "       [ 1.00000000e+00,  2.55742330e-03,  2.00394912e-02, ...,\n",
       "         1.37609983e-09, -1.31583161e-13,  3.36192493e-18],\n",
       "       ...,\n",
       "       [ 1.00000000e+00, -1.24035030e-01,  9.71915322e-01, ...,\n",
       "         2.25430879e-01,  2.68701127e-01,  2.42105914e-01],\n",
       "       [ 1.00000000e+00, -6.27832740e-02,  9.87906003e-01, ...,\n",
       "         5.73351779e-01,  6.43739954e-01,  7.27529269e-01],\n",
       "       [ 1.00000000e+00, -2.44929360e-16,  1.00000000e+00, ...,\n",
       "         1.00000000e+00,  1.00000000e+00,  1.00000000e+00]])"
      ]
     },
     "execution_count": 34,
     "metadata": {},
     "output_type": "execute_result"
    }
   ],
   "source": [
    "zer.Construct_Zernike()"
   ]
  },
  {
   "cell_type": "code",
   "execution_count": 35,
   "metadata": {},
   "outputs": [
    {
     "data": {
      "text/plain": [
       "array([[ 1.        , -0.5       ,  0.25      , ...,  0.        ,\n",
       "         0.        ,  0.        ],\n",
       "       [ 1.        , -0.47959184,  0.23000833, ...,  0.        ,\n",
       "         0.        ,  0.        ],\n",
       "       [ 1.        , -0.45918367,  0.21084965, ...,  0.        ,\n",
       "         0.        ,  0.        ],\n",
       "       ...,\n",
       "       [ 0.        ,  0.        ,  0.        , ...,  0.00937386,\n",
       "         0.00430433,  0.00197648],\n",
       "       [ 0.        ,  0.        ,  0.        , ...,  0.01216832,\n",
       "         0.00583583,  0.00279882],\n",
       "       [ 0.        ,  0.        ,  0.        , ...,  0.015625  ,\n",
       "         0.0078125 ,  0.00390625]])"
      ]
     },
     "execution_count": 35,
     "metadata": {},
     "output_type": "execute_result"
    }
   ],
   "source": [
    "time1=np.linspace(0,1,50)\n",
    "time2=np.linspace(0,1,50)\n",
    "dZ_dx=np.ones(100)\n",
    "dZ_dy=np.ones(100)\n",
    "times=[time1,time2]\n",
    "zer.Construct_M(times,2,dZ_dx,dZ_dy)"
   ]
  },
  {
   "cell_type": "code",
   "execution_count": 36,
   "metadata": {},
   "outputs": [
    {
     "data": {
      "text/plain": [
       "array([[ 10000.    ,  -5000.    ,   2500.    ,  -1250.    ,    625.    ,\n",
       "          -312.5   ,    156.25  ,      0.    ,      0.    ,      0.    ,\n",
       "             0.    ,      0.    ,      0.    ,      0.    ,      0.    ,\n",
       "             0.    ,      0.    ,      0.    ,      0.    ,      0.    ,\n",
       "             0.    ,      0.    ,      0.    , -10000.    ,   5000.    ,\n",
       "         -2500.    ,   1250.    ,   -625.    ,    312.5   ,   -156.25  ,\n",
       "            -0.    ,     -0.    ,     -0.    ,     -0.    ,     -0.    ,\n",
       "            -0.    ,     -0.    ,     -0.    ,     -0.    ,     -0.    ,\n",
       "            -0.    ,     -0.    ,     -0.    ,     -0.    ,     -0.    ,\n",
       "            -0.    ],\n",
       "       [     0.    ,  10000.    , -10000.    ,   7500.    ,  -5000.    ,\n",
       "          3125.    ,  -1875.    ,      0.    ,      0.    ,      0.    ,\n",
       "             0.    ,      0.    ,      0.    ,      0.    ,      0.    ,\n",
       "             0.    ,      0.    ,      0.    ,      0.    ,      0.    ,\n",
       "             0.    ,      0.    ,      0.    ,     -0.    , -10000.    ,\n",
       "         10000.    ,  -7500.    ,   5000.    ,  -3125.    ,   1875.    ,\n",
       "            -0.    ,     -0.    ,     -0.    ,     -0.    ,     -0.    ,\n",
       "            -0.    ,     -0.    ,     -0.    ,     -0.    ,     -0.    ,\n",
       "            -0.    ,     -0.    ,     -0.    ,     -0.    ,     -0.    ,\n",
       "            -0.    ],\n",
       "       [     0.    ,      0.    ,      0.    ,      0.    ,      0.    ,\n",
       "             0.    ,      0.    ,  10000.    ,  -5000.    ,   2500.    ,\n",
       "         -1250.    ,    625.    ,   -312.5   ,    156.25  ,      0.    ,\n",
       "             0.    ,      0.    ,      0.    ,      0.    ,      0.    ,\n",
       "             0.    ,      0.    ,      0.    ,     -0.    ,     -0.    ,\n",
       "            -0.    ,     -0.    ,     -0.    ,     -0.    ,     -0.    ,\n",
       "        -10000.    ,   5000.    ,  -2500.    ,   1250.    ,   -625.    ,\n",
       "           312.5   ,   -156.25  ,     -0.    ,     -0.    ,     -0.    ,\n",
       "            -0.    ,     -0.    ,     -0.    ,     -0.    ,     -0.    ,\n",
       "            -0.    ],\n",
       "       [     0.    ,      0.    ,      0.    ,      0.    ,      0.    ,\n",
       "             0.    ,      0.    ,      0.    ,  10000.    , -10000.    ,\n",
       "          7500.    ,  -5000.    ,   3125.    ,  -1875.    ,      0.    ,\n",
       "             0.    ,      0.    ,      0.    ,      0.    ,      0.    ,\n",
       "             0.    ,      0.    ,      0.    ,     -0.    ,     -0.    ,\n",
       "            -0.    ,     -0.    ,     -0.    ,     -0.    ,     -0.    ,\n",
       "            -0.    , -10000.    ,  10000.    ,  -7500.    ,   5000.    ,\n",
       "         -3125.    ,   1875.    ,     -0.    ,     -0.    ,     -0.    ,\n",
       "            -0.    ,     -0.    ,     -0.    ,     -0.    ,     -0.    ,\n",
       "            -0.    ],\n",
       "       [     0.    ,      0.    ,      0.    ,      0.    ,      0.    ,\n",
       "             0.    ,      0.    ,      0.    ,      0.    ,      0.    ,\n",
       "             0.    ,      0.    ,      0.    ,      0.    ,  10000.    ,\n",
       "         -5000.    ,   2500.    ,  -1250.    ,    625.    ,   -312.5   ,\n",
       "           156.25  ,    -78.125 ,     39.0625,     -0.    ,     -0.    ,\n",
       "            -0.    ,     -0.    ,     -0.    ,     -0.    ,     -0.    ,\n",
       "            -0.    ,     -0.    ,     -0.    ,     -0.    ,     -0.    ,\n",
       "            -0.    ,     -0.    , -10000.    ,   5000.    ,  -2500.    ,\n",
       "          1250.    ,   -625.    ,    312.5   ,   -156.25  ,     78.125 ,\n",
       "           -39.0625],\n",
       "       [     0.    ,      0.    ,      0.    ,      0.    ,      0.    ,\n",
       "             0.    ,      0.    ,      0.    ,      0.    ,      0.    ,\n",
       "             0.    ,      0.    ,      0.    ,      0.    ,      0.    ,\n",
       "         10000.    , -10000.    ,   7500.    ,  -5000.    ,   3125.    ,\n",
       "         -1875.    ,   1093.75  ,   -625.    ,     -0.    ,     -0.    ,\n",
       "            -0.    ,     -0.    ,     -0.    ,     -0.    ,     -0.    ,\n",
       "            -0.    ,     -0.    ,     -0.    ,     -0.    ,     -0.    ,\n",
       "            -0.    ,     -0.    ,     -0.    , -10000.    ,  10000.    ,\n",
       "         -7500.    ,   5000.    ,  -3125.    ,   1875.    ,  -1093.75  ,\n",
       "           625.    ],\n",
       "       [ 10000.    ,      0.    ,      0.    ,      0.    ,      0.    ,\n",
       "             0.    ,      0.    ,      0.    ,      0.    ,      0.    ,\n",
       "             0.    ,      0.    ,      0.    ,      0.    ,      0.    ,\n",
       "             0.    ,      0.    ,      0.    ,      0.    ,      0.    ,\n",
       "             0.    ,      0.    ,      0.    ,      0.    ,      0.    ,\n",
       "             0.    ,      0.    ,      0.    ,      0.    ,      0.    ,\n",
       "             0.    ,      0.    ,      0.    ,      0.    ,      0.    ,\n",
       "             0.    ,      0.    ,      0.    ,      0.    ,      0.    ,\n",
       "             0.    ,      0.    ,      0.    ,      0.    ,      0.    ,\n",
       "             0.    ],\n",
       "       [     0.    ,      0.    ,      0.    ,      0.    ,      0.    ,\n",
       "             0.    ,      0.    ,  10000.    ,      0.    ,      0.    ,\n",
       "             0.    ,      0.    ,      0.    ,      0.    ,      0.    ,\n",
       "             0.    ,      0.    ,      0.    ,      0.    ,      0.    ,\n",
       "             0.    ,      0.    ,      0.    ,      0.    ,      0.    ,\n",
       "             0.    ,      0.    ,      0.    ,      0.    ,      0.    ,\n",
       "             0.    ,      0.    ,      0.    ,      0.    ,      0.    ,\n",
       "             0.    ,      0.    ,      0.    ,      0.    ,      0.    ,\n",
       "             0.    ,      0.    ,      0.    ,      0.    ,      0.    ,\n",
       "             0.    ],\n",
       "       [     0.    ,      0.    ,      0.    ,      0.    ,      0.    ,\n",
       "             0.    ,      0.    ,      0.    ,      0.    ,      0.    ,\n",
       "             0.    ,      0.    ,      0.    ,      0.    ,  10000.    ,\n",
       "             0.    ,      0.    ,      0.    ,      0.    ,      0.    ,\n",
       "             0.    ,      0.    ,      0.    ,      0.    ,      0.    ,\n",
       "             0.    ,      0.    ,      0.    ,      0.    ,      0.    ,\n",
       "             0.    ,      0.    ,      0.    ,      0.    ,      0.    ,\n",
       "             0.    ,      0.    ,      0.    ,      0.    ,      0.    ,\n",
       "             0.    ,      0.    ,      0.    ,      0.    ,      0.    ,\n",
       "             0.    ]])"
      ]
     },
     "execution_count": 36,
     "metadata": {},
     "output_type": "execute_result"
    },
    {
     "data": {
      "image/png": "[encoded data removed]",
      "text/plain": [
       "<Figure size 640x480 with 1 Axes>"
      ]
     },
     "metadata": {},
     "output_type": "display_data"
    }
   ],
   "source": [
    "C=zer.Construct_C(times,2,10000,dZ_dx,dZ_dy)\n",
    "plt.imshow(C)\n",
    "C"
   ]
  }
 ],
 "metadata": {
  "kernelspec": {
   "display_name": "my-env",
   "language": "python",
   "name": "python3"
  },
  "language_info": {
   "codemirror_mode": {
    "name": "ipython",
    "version": 3
   },
   "file_extension": ".py",
   "mimetype": "text/x-python",
   "name": "python",
   "nbconvert_exporter": "python",
   "pygments_lexer": "ipython3",
   "version": "3.11.5"
  }
 },
 "nbformat": 4,
 "nbformat_minor": 2
}
