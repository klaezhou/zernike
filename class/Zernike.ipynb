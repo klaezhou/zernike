{
 "cells": [
  {
   "cell_type": "code",
   "execution_count": 1,
   "metadata": {},
   "outputs": [
    {
     "data": {
      "text/plain": [
       "<module 'Zer' from 'd:\\\\SUSTUDY\\\\MOPTIM\\\\2\\\\Codes\\\\motion_compensation\\\\class\\\\Zer.py'>"
      ]
     },
     "execution_count": 1,
     "metadata": {},
     "output_type": "execute_result"
    }
   ],
   "source": [
    "import importlib\n",
    "import Zer \n",
    "import numpy as np\n",
    "importlib.reload(Zer)"
   ]
  },
  {
   "cell_type": "code",
   "execution_count": 2,
   "metadata": {},
   "outputs": [],
   "source": [
    "rho=np.linspace(0,1,100)\n",
    "theta=np.linspace(0,2*np.pi,100)\n",
    "zer= Zer.Zer(4,100,rho,theta)"
   ]
  },
  {
   "cell_type": "code",
   "execution_count": 3,
   "metadata": {},
   "outputs": [
    {
     "data": {
      "text/plain": [
       "array([[ 1.00000000e+00,  0.00000000e+00,  0.00000000e+00, ...,\n",
       "         1.00000000e+00,  0.00000000e+00,  0.00000000e+00],\n",
       "       [ 1.00000000e+00,  6.40645653e-04,  1.00806735e-02, ...,\n",
       "         9.99387880e-01, -3.03587348e-04,  1.00765430e-08],\n",
       "       [ 1.00000000e+00,  2.55742330e-03,  2.00394912e-02, ...,\n",
       "         9.97552270e-01, -1.18447748e-03,  1.45551198e-07],\n",
       "       ...,\n",
       "       [ 1.00000000e+00, -1.24035030e-01,  9.71915322e-01, ...,\n",
       "         7.69622528e-01,  7.80572321e-01,  8.05346433e-01],\n",
       "       [ 1.00000000e+00, -6.27832740e-02,  9.87906003e-01, ...,\n",
       "         8.81824119e-01,  8.93866442e-01,  9.29428244e-01],\n",
       "       [ 1.00000000e+00, -2.44929360e-16,  1.00000000e+00, ...,\n",
       "         1.00000000e+00,  1.00000000e+00,  1.00000000e+00]])"
      ]
     },
     "execution_count": 3,
     "metadata": {},
     "output_type": "execute_result"
    }
   ],
   "source": [
    "zer.Construct_Zernike()"
   ]
  },
  {
   "cell_type": "code",
   "execution_count": 4,
   "metadata": {},
   "outputs": [
    {
     "data": {
      "text/plain": [
       "array([[ 1.        , -0.5       ,  0.25      , ...,  0.        ,\n",
       "         0.        ,  0.        ],\n",
       "       [ 1.        , -0.47959184,  0.23000833, ...,  0.        ,\n",
       "         0.        ,  0.        ],\n",
       "       [ 1.        , -0.45918367,  0.21084965, ...,  0.        ,\n",
       "         0.        ,  0.        ],\n",
       "       ...,\n",
       "       [ 0.        ,  0.        ,  0.        , ...,  0.00937386,\n",
       "         0.00430433,  0.00197648],\n",
       "       [ 0.        ,  0.        ,  0.        , ...,  0.01216832,\n",
       "         0.00583583,  0.00279882],\n",
       "       [ 0.        ,  0.        ,  0.        , ...,  0.015625  ,\n",
       "         0.0078125 ,  0.00390625]])"
      ]
     },
     "execution_count": 4,
     "metadata": {},
     "output_type": "execute_result"
    }
   ],
   "source": [
    "time1=np.linspace(0,1,50)\n",
    "time2=np.linspace(0,1,50)\n",
    "dZ_dx=np.ones(100)\n",
    "dZ_dy=np.ones(100)\n",
    "times=[time1,time2]\n",
    "zer.Construct_M(times,2,dZ_dx,dZ_dy)"
   ]
  },
  {
   "cell_type": "code",
   "execution_count": null,
   "metadata": {},
   "outputs": [],
   "source": [
    "zer.Construct_C(times,2,10000,dZ_dx,dZ_dy)"
   ]
  }
 ],
 "metadata": {
  "kernelspec": {
   "display_name": "my-env",
   "language": "python",
   "name": "python3"
  },
  "language_info": {
   "codemirror_mode": {
    "name": "ipython",
    "version": 3
   },
   "file_extension": ".py",
   "mimetype": "text/x-python",
   "name": "python",
   "nbconvert_exporter": "python",
   "pygments_lexer": "ipython3",
   "version": "3.11.5"
  }
 },
 "nbformat": 4,
 "nbformat_minor": 2
}
