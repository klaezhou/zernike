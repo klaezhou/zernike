{
 "cells": [
  {
   "cell_type": "code",
   "execution_count": 19,
   "metadata": {},
   "outputs": [],
   "source": [
    "%config InlineBackend.figure_format = 'retina'"
   ]
  },
  {
   "cell_type": "code",
   "execution_count": 1,
   "metadata": {},
   "outputs": [],
   "source": [
    "import Zer\n",
    "import numpy as np\n",
    "from astropy import units as u\n",
    "from pyoof  import zernike # calling the sub-package\n",
    "import matplotlib.pyplot as plt"
   ]
  },
  {
   "cell_type": "code",
   "execution_count": 2,
   "metadata": {},
   "outputs": [
    {
     "data": {
      "text/plain": [
       "<matplotlib.image.AxesImage at 0x2f0c0ccf410>"
      ]
     },
     "execution_count": 2,
     "metadata": {},
     "output_type": "execute_result"
    },
    {
     "data": {
      "image/png": "[encoded data removed]",
      "text/plain": [
       "<Figure size 640x480 with 1 Axes>"
      ]
     },
     "metadata": {},
     "output_type": "display_data"
    }
   ],
   "source": [
    "rho = np.linspace(0, 1, 10) \n",
    "theta= np.linspace(0, 1, 10) \n",
    "zer=Zer.Zer(order=10,num_points=int(10),rho=rho,theta=theta)\n",
    "Z=zer.Construct_Zernike()\n",
    "plt.imshow(Z)"
   ]
  },
  {
   "cell_type": "code",
   "execution_count": 7,
   "metadata": {},
   "outputs": [
    {
     "data": {
      "text/latex": [
       "$[1,~0.92684042,~0.71833562,~0.40740741,~0.048925469,~-0.28029264,~-0.48148148,~-0.43392775,~0.0050297211,~1] \\; \\mathrm{}$"
      ],
      "text/plain": [
       "<Quantity [ 1.        ,  0.92684042,  0.71833562,  0.40740741,  0.04892547,\n",
       "           -0.28029264, -0.48148148, -0.43392775,  0.00502972,  1.        ]>"
      ]
     },
     "execution_count": 7,
     "metadata": {},
     "output_type": "execute_result"
    }
   ],
   "source": [
    "import numpy as np\n",
    "from astropy import units as u\n",
    "from pyoof  import zernike # calling the sub-package\n",
    "rho = np.linspace(0, 1, 10) * u.m\n",
    "R40 = zernike.R(n=4, m=0, rho=rho / rho.max())\n",
    "R40"
   ]
  },
  {
   "cell_type": "code",
   "execution_count": 10,
   "metadata": {},
   "outputs": [
    {
     "data": {
      "text/latex": [
       "$[1,~0.92684042,~0.71833562,~0.40740741,~0.048925469,~-0.28029264,~-0.48148148,~-0.43392775,~0.0050297211,~1] \\; \\mathrm{}$"
      ],
      "text/plain": [
       "<Quantity [ 1.        ,  0.92684042,  0.71833562,  0.40740741,  0.04892547,\n",
       "           -0.28029264, -0.48148148, -0.43392775,  0.00502972,  1.        ]>"
      ]
     },
     "execution_count": 10,
     "metadata": {},
     "output_type": "execute_result"
    }
   ],
   "source": [
    "theta=0.4\n",
    "U40=zernike.U(n=4, l=0, rho=rho / rho.max(),theta=theta)\n",
    "U40"
   ]
  },
  {
   "cell_type": "code",
   "execution_count": 15,
   "metadata": {},
   "outputs": [
    {
     "name": "stdout",
     "output_type": "stream",
     "text": [
      "所有使 n - m 等于偶数的 m 值: [0, -1, 1, -2, 0, 2, -3, -1, 1, 3, -4, -2, 0, 2, 4]\n"
     ]
    }
   ],
   "source": [
    "def find_combinations(order):\n",
    "        all_m_values = []\n",
    "        \n",
    "        for n in range(order + 1):\n",
    "            m_values = []\n",
    "            for m in range(-n, n + 1):\n",
    "                if (n - m) % 2 == 0:\n",
    "                    m_values.append(m)\n",
    "            all_m_values.extend(m_values)  # 合并到一个一维数组中\n",
    "\n",
    "        return all_m_values\n",
    "\n",
    "order = 4  # 你可以修改这个值\n",
    "combinations = find_combinations(order)\n",
    "print(f\"所有使 n - m 等于偶数的 m 值: {combinations}\")"
   ]
  },
  {
   "cell_type": "code",
   "execution_count": 18,
   "metadata": {},
   "outputs": [
    {
     "name": "stdout",
     "output_type": "stream",
     "text": [
      "所有使 n - m 等于偶数的 m 值: [-3, -1, 1, 3]\n"
     ]
    }
   ],
   "source": [
    "def find_combinations(n):\n",
    "    m_values = []\n",
    "    \n",
    "    for m in range(-n, n + 1):\n",
    "        if (n - m) % 2 == 0:\n",
    "            m_values.append(m)\n",
    "    \n",
    "    return m_values\n",
    "\n",
    "n = 3 \n",
    "combinations = find_combinations(n)\n",
    "print(f\"所有使 n - m 等于偶数的 m 值: {combinations}\")\n",
    "for i in range(len(combinations)):U40=zernike.U(n=3, l=combinations[i], rho=rho / rho.max(),theta=theta)\n"
   ]
  },
  {
   "cell_type": "code",
   "execution_count": null,
   "metadata": {},
   "outputs": [],
   "source": []
  }
 ],
 "metadata": {
  "kernelspec": {
   "display_name": "my-env",
   "language": "python",
   "name": "python3"
  },
  "language_info": {
   "codemirror_mode": {
    "name": "ipython",
    "version": 3
   },
   "file_extension": ".py",
   "mimetype": "text/x-python",
   "name": "python",
   "nbconvert_exporter": "python",
   "pygments_lexer": "ipython3",
   "version": "3.11.5"
  }
 },
 "nbformat": 4,
 "nbformat_minor": 2
}
